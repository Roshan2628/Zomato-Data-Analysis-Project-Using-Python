{
 "cells": [
  {
   "cell_type": "markdown",
   "id": "1fe68a9f-6811-4650-8688-3200c64dd01e",
   "metadata": {},
   "source": [
    "# Zomato Market Sales Analysis "
   ]
  },
  {
   "cell_type": "markdown",
   "id": "3b89b50b-0965-4324-8c46-f31c20f7c926",
   "metadata": {},
   "source": [
    "# Zomato Market Sales Analysis "
   ]
  },
  {
   "cell_type": "code",
   "execution_count": 1,
   "id": "aa9372ee-a3e4-42c3-ae0b-19c815a6e6ff",
   "metadata": {},
   "outputs": [],
   "source": [
    "## Importing required labraries - \n",
    "import pandas as pd\n",
    "import numpy as np\n",
    "import seaborn as sns\n",
    "import matplotlib.pyplot as plt"
   ]
  },
  {
   "cell_type": "code",
   "execution_count": 2,
   "id": "d5feea41-8117-4d52-91c7-e7b416afd76e",
   "metadata": {},
   "outputs": [
    {
     "data": {
      "text/html": [
       "<div>\n",
       "<style scoped>\n",
       "    .dataframe tbody tr th:only-of-type {\n",
       "        vertical-align: middle;\n",
       "    }\n",
       "\n",
       "    .dataframe tbody tr th {\n",
       "        vertical-align: top;\n",
       "    }\n",
       "\n",
       "    .dataframe thead th {\n",
       "        text-align: right;\n",
       "    }\n",
       "</style>\n",
       "<table border=\"1\" class=\"dataframe\">\n",
       "  <thead>\n",
       "    <tr style=\"text-align: right;\">\n",
       "      <th></th>\n",
       "      <th>name</th>\n",
       "      <th>online_order</th>\n",
       "      <th>book_table</th>\n",
       "      <th>rate</th>\n",
       "      <th>votes</th>\n",
       "      <th>approx_cost(for two people)</th>\n",
       "      <th>listed_in(type)</th>\n",
       "    </tr>\n",
       "  </thead>\n",
       "  <tbody>\n",
       "    <tr>\n",
       "      <th>0</th>\n",
       "      <td>Jalsa</td>\n",
       "      <td>Yes</td>\n",
       "      <td>Yes</td>\n",
       "      <td>4.1/5</td>\n",
       "      <td>775</td>\n",
       "      <td>800</td>\n",
       "      <td>Buffet</td>\n",
       "    </tr>\n",
       "    <tr>\n",
       "      <th>1</th>\n",
       "      <td>Spice Elephant</td>\n",
       "      <td>Yes</td>\n",
       "      <td>No</td>\n",
       "      <td>4.1/5</td>\n",
       "      <td>787</td>\n",
       "      <td>800</td>\n",
       "      <td>Buffet</td>\n",
       "    </tr>\n",
       "    <tr>\n",
       "      <th>2</th>\n",
       "      <td>San Churro Cafe</td>\n",
       "      <td>Yes</td>\n",
       "      <td>No</td>\n",
       "      <td>3.8/5</td>\n",
       "      <td>918</td>\n",
       "      <td>800</td>\n",
       "      <td>Buffet</td>\n",
       "    </tr>\n",
       "    <tr>\n",
       "      <th>3</th>\n",
       "      <td>Addhuri Udupi Bhojana</td>\n",
       "      <td>No</td>\n",
       "      <td>No</td>\n",
       "      <td>3.7/5</td>\n",
       "      <td>88</td>\n",
       "      <td>300</td>\n",
       "      <td>Buffet</td>\n",
       "    </tr>\n",
       "    <tr>\n",
       "      <th>4</th>\n",
       "      <td>Grand Village</td>\n",
       "      <td>No</td>\n",
       "      <td>No</td>\n",
       "      <td>3.8/5</td>\n",
       "      <td>166</td>\n",
       "      <td>600</td>\n",
       "      <td>Buffet</td>\n",
       "    </tr>\n",
       "  </tbody>\n",
       "</table>\n",
       "</div>"
      ],
      "text/plain": [
       "                    name online_order book_table   rate  votes  \\\n",
       "0                  Jalsa          Yes        Yes  4.1/5    775   \n",
       "1         Spice Elephant          Yes         No  4.1/5    787   \n",
       "2        San Churro Cafe          Yes         No  3.8/5    918   \n",
       "3  Addhuri Udupi Bhojana           No         No  3.7/5     88   \n",
       "4          Grand Village           No         No  3.8/5    166   \n",
       "\n",
       "   approx_cost(for two people) listed_in(type)  \n",
       "0                          800          Buffet  \n",
       "1                          800          Buffet  \n",
       "2                          800          Buffet  \n",
       "3                          300          Buffet  \n",
       "4                          600          Buffet  "
      ]
     },
     "execution_count": 2,
     "metadata": {},
     "output_type": "execute_result"
    }
   ],
   "source": [
    "## importing the required file from system \n",
    "data = pd.read_csv(\"D:/Top Mentor/Projects/Zomato Python Base/Zomato data .csv\")\n",
    "data.head()"
   ]
  },
  {
   "cell_type": "code",
   "execution_count": 8,
   "id": "88782cdd-b40a-4a1f-9d73-c4c9c467fe49",
   "metadata": {},
   "outputs": [
    {
     "data": {
      "text/html": [
       "<div>\n",
       "<style scoped>\n",
       "    .dataframe tbody tr th:only-of-type {\n",
       "        vertical-align: middle;\n",
       "    }\n",
       "\n",
       "    .dataframe tbody tr th {\n",
       "        vertical-align: top;\n",
       "    }\n",
       "\n",
       "    .dataframe thead th {\n",
       "        text-align: right;\n",
       "    }\n",
       "</style>\n",
       "<table border=\"1\" class=\"dataframe\">\n",
       "  <thead>\n",
       "    <tr style=\"text-align: right;\">\n",
       "      <th></th>\n",
       "      <th>name</th>\n",
       "      <th>online_order</th>\n",
       "      <th>book_table</th>\n",
       "      <th>rate</th>\n",
       "      <th>votes</th>\n",
       "      <th>approx_cost(for two people)</th>\n",
       "      <th>listed_in(type)</th>\n",
       "    </tr>\n",
       "  </thead>\n",
       "  <tbody>\n",
       "    <tr>\n",
       "      <th>0</th>\n",
       "      <td>Jalsa</td>\n",
       "      <td>Yes</td>\n",
       "      <td>Yes</td>\n",
       "      <td>4.1/5</td>\n",
       "      <td>775</td>\n",
       "      <td>800</td>\n",
       "      <td>Buffet</td>\n",
       "    </tr>\n",
       "    <tr>\n",
       "      <th>1</th>\n",
       "      <td>Spice Elephant</td>\n",
       "      <td>Yes</td>\n",
       "      <td>No</td>\n",
       "      <td>4.1/5</td>\n",
       "      <td>787</td>\n",
       "      <td>800</td>\n",
       "      <td>Buffet</td>\n",
       "    </tr>\n",
       "  </tbody>\n",
       "</table>\n",
       "</div>"
      ],
      "text/plain": [
       "             name online_order book_table   rate  votes  \\\n",
       "0           Jalsa          Yes        Yes  4.1/5    775   \n",
       "1  Spice Elephant          Yes         No  4.1/5    787   \n",
       "\n",
       "   approx_cost(for two people) listed_in(type)  \n",
       "0                          800          Buffet  \n",
       "1                          800          Buffet  "
      ]
     },
     "execution_count": 8,
     "metadata": {},
     "output_type": "execute_result"
    }
   ],
   "source": [
    "## First copy our required data\n",
    "df = data.copy()\n",
    "df.head(2)"
   ]
  },
  {
   "cell_type": "code",
   "execution_count": 4,
   "id": "5e27fc3d-8fc5-4155-a12e-9240e8777300",
   "metadata": {},
   "outputs": [],
   "source": [
    "#The dataset contains the following columns:\n",
    "\n",
    "#name: Name of the restaurant.\n",
    "#online_order: Whether the restaurant accepts online orders (Yes/No).\n",
    "#book_table: Whether the restaurant allows table booking (Yes/No).\n",
    "#rate: The rating of the restaurant (e.g., 4.1/5).\n",
    "#votes: Number of votes the restaurant has received.\n",
    "#approx_cost(for two people): Approximate cost for two people.\n",
    "#listed_in(type): Type of the restaurant (e.g., Buffet, Cafe, etc.)."
   ]
  },
  {
   "cell_type": "code",
   "execution_count": 14,
   "id": "1f075690-bced-4b0c-845d-44c19d94eede",
   "metadata": {},
   "outputs": [],
   "source": [
    "# We are renaming the column name for easy understanding \n",
    "df.rename(columns = {'name' : 'Resturant Name' , 'rate': 'Rating' , 'listed_in(type)':'Type of Rest' , 'approx_cost(for two people)':'Cost of Two People'}, inplace = True)"
   ]
  },
  {
   "cell_type": "code",
   "execution_count": 15,
   "id": "3ab0e8c6-d47f-4253-83d6-ccad34f4bb39",
   "metadata": {},
   "outputs": [
    {
     "data": {
      "text/html": [
       "<div>\n",
       "<style scoped>\n",
       "    .dataframe tbody tr th:only-of-type {\n",
       "        vertical-align: middle;\n",
       "    }\n",
       "\n",
       "    .dataframe tbody tr th {\n",
       "        vertical-align: top;\n",
       "    }\n",
       "\n",
       "    .dataframe thead th {\n",
       "        text-align: right;\n",
       "    }\n",
       "</style>\n",
       "<table border=\"1\" class=\"dataframe\">\n",
       "  <thead>\n",
       "    <tr style=\"text-align: right;\">\n",
       "      <th></th>\n",
       "      <th>Resturant Name</th>\n",
       "      <th>online_order</th>\n",
       "      <th>book_table</th>\n",
       "      <th>Rating</th>\n",
       "      <th>votes</th>\n",
       "      <th>Cost of Two People</th>\n",
       "      <th>Type of Rest</th>\n",
       "    </tr>\n",
       "  </thead>\n",
       "  <tbody>\n",
       "    <tr>\n",
       "      <th>0</th>\n",
       "      <td>Jalsa</td>\n",
       "      <td>Yes</td>\n",
       "      <td>Yes</td>\n",
       "      <td>4.1/5</td>\n",
       "      <td>775</td>\n",
       "      <td>800</td>\n",
       "      <td>Buffet</td>\n",
       "    </tr>\n",
       "    <tr>\n",
       "      <th>1</th>\n",
       "      <td>Spice Elephant</td>\n",
       "      <td>Yes</td>\n",
       "      <td>No</td>\n",
       "      <td>4.1/5</td>\n",
       "      <td>787</td>\n",
       "      <td>800</td>\n",
       "      <td>Buffet</td>\n",
       "    </tr>\n",
       "  </tbody>\n",
       "</table>\n",
       "</div>"
      ],
      "text/plain": [
       "   Resturant Name online_order book_table Rating  votes  Cost of Two People  \\\n",
       "0           Jalsa          Yes        Yes  4.1/5    775                 800   \n",
       "1  Spice Elephant          Yes         No  4.1/5    787                 800   \n",
       "\n",
       "  Type of Rest  \n",
       "0       Buffet  \n",
       "1       Buffet  "
      ]
     },
     "execution_count": 15,
     "metadata": {},
     "output_type": "execute_result"
    }
   ],
   "source": [
    "df.head(2)"
   ]
  },
  {
   "cell_type": "code",
   "execution_count": 17,
   "id": "a3cef602-b654-4529-a020-d64fa2b1e76d",
   "metadata": {},
   "outputs": [],
   "source": [
    "## Reading the data first - "
   ]
  },
  {
   "cell_type": "code",
   "execution_count": 37,
   "id": "7a1527b3-04c3-40a3-8ea9-69a0b8266f51",
   "metadata": {
    "scrolled": true
   },
   "outputs": [
    {
     "name": "stdout",
     "output_type": "stream",
     "text": [
      "No of Unique Resturant -  145\n",
      "No of Unique Type of Rest -  4\n",
      "shape of Data -  (148, 7)\n",
      "Length of Data -  148\n",
      "No of COlumns - Index(['Resturant Name', 'online_order', 'book_table', 'Rating', 'votes',\n",
      "       'Cost of Two People', 'Type of Rest'],\n",
      "      dtype='object')\n",
      "Types od Datatypes - Resturant Name         object\n",
      "online_order           object\n",
      "book_table             object\n",
      "Rating                float64\n",
      "votes                   int64\n",
      "Cost of Two People      int64\n",
      "Type of Rest           object\n",
      "dtype: object\n",
      "Data Information - <bound method DataFrame.info of             Resturant Name online_order book_table  Rating  votes  \\\n",
      "0                    Jalsa          Yes        Yes     4.1    775   \n",
      "1           Spice Elephant          Yes         No     4.1    787   \n",
      "2          San Churro Cafe          Yes         No     3.8    918   \n",
      "3    Addhuri Udupi Bhojana           No         No     3.7     88   \n",
      "4            Grand Village           No         No     3.8    166   \n",
      "..                     ...          ...        ...     ...    ...   \n",
      "143       Melting Melodies           No         No     3.3      0   \n",
      "144        New Indraprasta           No         No     3.3      0   \n",
      "145           Anna Kuteera          Yes         No     4.0    771   \n",
      "146                 Darbar           No         No     3.0     98   \n",
      "147          Vijayalakshmi          Yes         No     3.9     47   \n",
      "\n",
      "     Cost of Two People Type of Rest  \n",
      "0                   800       Buffet  \n",
      "1                   800       Buffet  \n",
      "2                   800       Buffet  \n",
      "3                   300       Buffet  \n",
      "4                   600       Buffet  \n",
      "..                  ...          ...  \n",
      "143                 100       Dining  \n",
      "144                 150       Dining  \n",
      "145                 450       Dining  \n",
      "146                 800       Dining  \n",
      "147                 200       Dining  \n",
      "\n",
      "[148 rows x 7 columns]>\n"
     ]
    }
   ],
   "source": [
    "print('No of Unique Resturant - ',df['Resturant Name'].nunique())\n",
    "print('No of Unique Type of Rest - ',df['Type of Rest'].nunique())\n",
    "print('shape of Data - ' , df.shape)\n",
    "print('Length of Data - ',len(df))\n",
    "print('No of COlumns -' , df.columns)\n",
    "print('Types od Datatypes -',df.dtypes)\n",
    "print('Data Information -',df.info)"
   ]
  },
  {
   "cell_type": "code",
   "execution_count": 27,
   "id": "a8625f23-bc8b-4a64-9d7f-407d9c3afdab",
   "metadata": {},
   "outputs": [
    {
     "data": {
      "text/plain": [
       "Resturant Name        0\n",
       "online_order          0\n",
       "book_table            0\n",
       "Rating                0\n",
       "votes                 0\n",
       "Cost of Two People    0\n",
       "Type of Rest          0\n",
       "dtype: int64"
      ]
     },
     "execution_count": 27,
     "metadata": {},
     "output_type": "execute_result"
    }
   ],
   "source": [
    "# Count of Missing Value \n",
    "df.isnull().sum() "
   ]
  },
  {
   "cell_type": "code",
   "execution_count": null,
   "id": "a9bcc921-37cf-4822-8bac-c40681dd1093",
   "metadata": {},
   "outputs": [],
   "source": [
    "# No Missing Value Found in Our Data "
   ]
  },
  {
   "cell_type": "code",
   "execution_count": null,
   "id": "d15f5d0c-7a3d-4df9-87c0-47e965ba6a55",
   "metadata": {},
   "outputs": [],
   "source": [
    "# in the data Rating column will creating the issue while we doing to the Analysis so we convert it into the proper way such a that removing the denominator"
   ]
  },
  {
   "cell_type": "code",
   "execution_count": 33,
   "id": "3c4a1132-afd2-4a00-ba47-f00adc68e5e0",
   "metadata": {},
   "outputs": [],
   "source": [
    "# Clean the `rate` column\n",
    "df['Rating'] = df['Rating'].str.split('/').str[0].replace(['NEW', '-'], None).astype(float)"
   ]
  },
  {
   "cell_type": "code",
   "execution_count": 72,
   "id": "16ac35df-31af-43d2-af40-0ff6e9cf0ab1",
   "metadata": {},
   "outputs": [
    {
     "data": {
      "text/html": [
       "<div>\n",
       "<style scoped>\n",
       "    .dataframe tbody tr th:only-of-type {\n",
       "        vertical-align: middle;\n",
       "    }\n",
       "\n",
       "    .dataframe tbody tr th {\n",
       "        vertical-align: top;\n",
       "    }\n",
       "\n",
       "    .dataframe thead th {\n",
       "        text-align: right;\n",
       "    }\n",
       "</style>\n",
       "<table border=\"1\" class=\"dataframe\">\n",
       "  <thead>\n",
       "    <tr style=\"text-align: right;\">\n",
       "      <th></th>\n",
       "      <th>Resturant Name</th>\n",
       "      <th>online_order</th>\n",
       "      <th>book_table</th>\n",
       "      <th>Rating</th>\n",
       "      <th>votes</th>\n",
       "      <th>Cost of Two People</th>\n",
       "      <th>Type of Rest</th>\n",
       "    </tr>\n",
       "  </thead>\n",
       "  <tbody>\n",
       "    <tr>\n",
       "      <th>0</th>\n",
       "      <td>Jalsa</td>\n",
       "      <td>Yes</td>\n",
       "      <td>Yes</td>\n",
       "      <td>4.1</td>\n",
       "      <td>775</td>\n",
       "      <td>800</td>\n",
       "      <td>Buffet</td>\n",
       "    </tr>\n",
       "    <tr>\n",
       "      <th>1</th>\n",
       "      <td>Spice Elephant</td>\n",
       "      <td>Yes</td>\n",
       "      <td>No</td>\n",
       "      <td>4.1</td>\n",
       "      <td>787</td>\n",
       "      <td>800</td>\n",
       "      <td>Buffet</td>\n",
       "    </tr>\n",
       "  </tbody>\n",
       "</table>\n",
       "</div>"
      ],
      "text/plain": [
       "   Resturant Name online_order book_table  Rating  votes  Cost of Two People  \\\n",
       "0           Jalsa          Yes        Yes     4.1    775                 800   \n",
       "1  Spice Elephant          Yes         No     4.1    787                 800   \n",
       "\n",
       "  Type of Rest  \n",
       "0       Buffet  \n",
       "1       Buffet  "
      ]
     },
     "execution_count": 72,
     "metadata": {},
     "output_type": "execute_result"
    }
   ],
   "source": [
    "df.head(2) # Now Cleaning done in the rating column "
   ]
  },
  {
   "cell_type": "markdown",
   "id": "46af70e3-bace-45fe-b4a8-3579721cde68",
   "metadata": {
    "scrolled": true
   },
   "source": [
    "## Now we have  some question on this data we conclude one by one question - \n",
    "1) What type of restaurant do the majority of customers order from?\n",
    "2) How many votes has each type of restaurant received from customers?\n",
    "3) What are the ratings that the majority of restaurants have received?\n",
    "4)Zomato has observed that most couples order most of their food online. What is their average spending on each order?\n",
    "5) Which mode (online or offline) has received the maximum rating?\n",
    "6) Which type of restaurant received more offline orders, so that Zomato can provide those customers with some good offers"
   ]
  },
  {
   "cell_type": "code",
   "execution_count": null,
   "id": "31f3485f-d77c-41e6-94a4-662e2d364cd9",
   "metadata": {},
   "outputs": [],
   "source": [
    "# We to do EDA que"
   ]
  },
  {
   "cell_type": "code",
   "execution_count": null,
   "id": "e3faabca-a13a-4481-8dd4-d68d22bb98b7",
   "metadata": {},
   "outputs": [],
   "source": [
    "# 1 . Question Ans - "
   ]
  },
  {
   "cell_type": "code",
   "execution_count": 40,
   "id": "b7ff42a2-0ea4-4789-8564-4659eefdcfe1",
   "metadata": {},
   "outputs": [
    {
     "name": "stdout",
     "output_type": "stream",
     "text": [
      "Type of Rest\n",
      "Dining    110\n",
      "Cafes      23\n",
      "other       8\n",
      "Buffet      7\n",
      "Name: count, dtype: int64\n"
     ]
    }
   ],
   "source": [
    "# Count the frequency of each restaurant type\n",
    "type_Restaurant = df['Type of Rest'].value_counts()\n",
    "print(type_Restaurant)"
   ]
  },
  {
   "cell_type": "code",
   "execution_count": null,
   "id": "3e8682ce-3303-47dc-9837-d86ae462943d",
   "metadata": {},
   "outputs": [],
   "source": [
    "# Using Graphical Way - "
   ]
  },
  {
   "cell_type": "code",
   "execution_count": 69,
   "id": "96b2ee1d-e248-46e8-a39f-2b80a5761c72",
   "metadata": {},
   "outputs": [
    {
     "data": {
      "text/plain": [
       "Text(0.5, 0, 'Types of Restaurant')"
      ]
     },
     "execution_count": 69,
     "metadata": {},
     "output_type": "execute_result"
    },
    {
     "data": {
      "image/png": "[encoded data removed]",
      "text/plain": [
       "<Figure size 640x480 with 1 Axes>"
      ]
     },
     "metadata": {},
     "output_type": "display_data"
    }
   ],
   "source": [
    "sns.countplot(x = df['Type of Rest'])\n",
    "\n",
    "# Add titles and labels\n",
    "plt.xlabel('Types of Restaurant')"
   ]
  },
  {
   "cell_type": "code",
   "execution_count": 52,
   "id": "dd7a3a71-a8ff-489e-95d4-97a4e0843942",
   "metadata": {},
   "outputs": [],
   "source": [
    "# Colclusion = Majority of Restarunt Dining Catogory is very high as compare to other . \n",
    "# We conclude it normal way as well as graphical way also . "
   ]
  },
  {
   "cell_type": "code",
   "execution_count": null,
   "id": "70e7fbb5-183e-49ff-a1e8-da7e43361425",
   "metadata": {},
   "outputs": [],
   "source": [
    "# 2 . Question Ans - \n",
    "# 2) How many votes has each type of restaurant received from customers?"
   ]
  },
  {
   "cell_type": "code",
   "execution_count": 55,
   "id": "c5624863-14e4-4c5d-8ea3-91ac1085cf0d",
   "metadata": {},
   "outputs": [
    {
     "name": "stdout",
     "output_type": "stream",
     "text": [
      "The Number of Votes Per Type Received -  Type of Rest\n",
      "Buffet     3028\n",
      "Cafes      6434\n",
      "Dining    20363\n",
      "other      9367\n",
      "Name: votes, dtype: int64\n"
     ]
    }
   ],
   "source": [
    "# Group by restaurant type and sum votes\n",
    "Number_Votes_Pertype = df.groupby('Type of Rest')['votes'].sum()\n",
    "print('The Number of Votes Per Type Received - ',Number_Votes_Pertype)"
   ]
  },
  {
   "cell_type": "code",
   "execution_count": 68,
   "id": "6a417a62-af96-47de-9076-56abbe8b708d",
   "metadata": {},
   "outputs": [
    {
     "data": {
      "text/plain": [
       "Text(0, 0.5, 'Total Votes')"
      ]
     },
     "execution_count": 68,
     "metadata": {},
     "output_type": "execute_result"
    },
    {
     "data": {
      "image/png": "[encoded data removed]",
      "text/plain": [
       "<Figure size 300x300 with 1 Axes>"
      ]
     },
     "metadata": {},
     "output_type": "display_data"
    }
   ],
   "source": [
    "# Plot the data using a line chart\n",
    "plt.figure(figsize=(3, 3))\n",
    "Number_Votes_Pertype.sort_values().plot(kind='line', marker='X', color='red', linewidth=1)\n",
    "\n",
    "# Add titles and labels\n",
    "plt.title('Total Votes by Type of Restaurant', fontsize=8)\n",
    "plt.xlabel('Type of Restaurant', fontsize=7)\n",
    "plt.ylabel('Total Votes', fontsize=7)"
   ]
  },
  {
   "cell_type": "code",
   "execution_count": null,
   "id": "92ece966-c071-4c83-bbda-d39668f0f790",
   "metadata": {},
   "outputs": [],
   "source": [
    "# Colclusion - Higher Vote Received to dining catogory "
   ]
  },
  {
   "cell_type": "code",
   "execution_count": null,
   "id": "6f4386dd-9d00-4029-b581-050076609981",
   "metadata": {},
   "outputs": [],
   "source": [
    "# 3 . Question Ans - \n",
    "# 3) What are the ratings that the majority of restaurants have received?"
   ]
  },
  {
   "cell_type": "code",
   "execution_count": 76,
   "id": "2c90da73-93f9-4495-9fb3-aa60a7e6f24b",
   "metadata": {
    "scrolled": true
   },
   "outputs": [
    {
     "name": "stdout",
     "output_type": "stream",
     "text": [
      "Count of Rating Majority -  Rating\n",
      "3.8    20\n",
      "3.7    15\n",
      "3.3    14\n",
      "3.4    12\n",
      "4.1    11\n",
      "3.6    11\n",
      "4.0    10\n",
      "3.9    10\n",
      "4.2     8\n",
      "3.1     7\n",
      "3.2     7\n",
      "2.9     7\n",
      "3.5     6\n",
      "4.6     2\n",
      "2.8     2\n",
      "4.4     2\n",
      "3.0     2\n",
      "4.3     1\n",
      "2.6     1\n",
      "Name: count, dtype: int64\n"
     ]
    }
   ],
   "source": [
    "count_rating = df['Rating'].value_counts()\n",
    "print('Count of Rating Majority - ',count_rating)"
   ]
  },
  {
   "cell_type": "code",
   "execution_count": 85,
   "id": "fb84716d-1c8d-4d9d-84de-2ecf2448f6b0",
   "metadata": {},
   "outputs": [
    {
     "data": {
      "text/plain": [
       "Text(0, 0.5, 'Count')"
      ]
     },
     "execution_count": 85,
     "metadata": {},
     "output_type": "execute_result"
    },
    {
     "data": {
      "image/png": "[encoded data removed]",
      "text/plain": [
       "<Figure size 300x300 with 1 Axes>"
      ]
     },
     "metadata": {},
     "output_type": "display_data"
    }
   ],
   "source": [
    "# Plotting the data using a Hist. chart\n",
    "plt.figure(figsize=(3, 3))\n",
    "plt.hist(df['Rating'],bins=5)\n",
    "# Add titles and labels\n",
    "plt.title('Count of Ratings', fontsize=8)\n",
    "plt.xlabel('Ratings', fontsize=6)\n",
    "plt.ylabel('Count', fontsize=6)"
   ]
  },
  {
   "cell_type": "code",
   "execution_count": null,
   "id": "8ec23a9e-fdbf-4bd2-96cb-5dc5f507effd",
   "metadata": {},
   "outputs": [],
   "source": [
    "# 4 . Question Ans - \n",
    "# 4)Zomato has observed that most couples order most of their food online. What is their average spending on each order?"
   ]
  },
  {
   "cell_type": "code",
   "execution_count": 87,
   "id": "135d2660-a31a-47d0-a425-10d9c131b513",
   "metadata": {},
   "outputs": [
    {
     "name": "stdout",
     "output_type": "stream",
     "text": [
      "Average spending on online orders: 510.3448275862069\n"
     ]
    }
   ],
   "source": [
    "# Filter for online orders and calculate average cost\n",
    "avg_cost_online = df[df['online_order'] == 'Yes']['Cost of Two People'].mean()\n",
    "print(f'Average spending on online orders: {avg_cost_online}')"
   ]
  },
  {
   "cell_type": "code",
   "execution_count": 92,
   "id": "b879f18c-d5db-4b20-a4cc-adc705652e54",
   "metadata": {},
   "outputs": [
    {
     "data": {
      "text/plain": [
       "<Axes: xlabel='Cost of Two People', ylabel='count'>"
      ]
     },
     "execution_count": 92,
     "metadata": {},
     "output_type": "execute_result"
    },
    {
     "data": {
      "image/png": "[encoded data removed]",
      "text/plain": [
       "<Figure size 900x300 with 1 Axes>"
      ]
     },
     "metadata": {},
     "output_type": "display_data"
    }
   ],
   "source": [
    "# Plotting the data using a Bar Graph\n",
    "plt.figure(figsize=(9, 3))\n",
    "avg_cost_online=df['Cost of Two People']\n",
    "sns.countplot(x=avg_cost_online)"
   ]
  },
  {
   "cell_type": "code",
   "execution_count": null,
   "id": "35f21b5d-3c18-468f-8160-0f5bebd36131",
   "metadata": {},
   "outputs": [],
   "source": [
    "# Average Spending for 1 Order by couple is approx 300rs"
   ]
  },
  {
   "cell_type": "code",
   "execution_count": null,
   "id": "840db657-530e-40de-a1a5-a6756cad931a",
   "metadata": {},
   "outputs": [],
   "source": [
    "# 5 . Question Ans - \n",
    "# 5) Which mode (online or offline) has received the maximum rating?\n"
   ]
  },
  {
   "cell_type": "code",
   "execution_count": 96,
   "id": "38505ec3-eb11-4fc4-be41-f98dda9dc0ea",
   "metadata": {},
   "outputs": [
    {
     "name": "stdout",
     "output_type": "stream",
     "text": [
      "Online & Offline Rating Average - online_order\n",
      "No     3.487778\n",
      "Yes    3.858621\n",
      "Name: Rating, dtype: float64\n"
     ]
    }
   ],
   "source": [
    "# Group by online_order and calculate average rating\n",
    "rating_by_mode = df.groupby('online_order')['Rating'].mean()\n",
    "print('Online & Offline Rating Average -',rating_by_mode)\n",
    "# Yes Means Online & No Means Offline "
   ]
  },
  {
   "cell_type": "code",
   "execution_count": 101,
   "id": "eb31d33a-c7ae-47ff-9275-4c7cc8fd1df0",
   "metadata": {},
   "outputs": [
    {
     "data": {
      "text/plain": [
       "Text(0.5, 1.0, 'Online Offline Ratio')"
      ]
     },
     "execution_count": 101,
     "metadata": {},
     "output_type": "execute_result"
    },
    {
     "data": {
      "image/png": "[encoded data removed]",
      "text/plain": [
       "<Figure size 300x300 with 1 Axes>"
      ]
     },
     "metadata": {},
     "output_type": "display_data"
    }
   ],
   "source": [
    "# Plotting the data using a Box Plot - \n",
    "plt.figure(figsize=(3, 3))\n",
    "sns.boxplot( x ='online_order' , y = 'Rating', data = df)\n",
    "plt.title('Online Offline Ratio', fontsize=8)"
   ]
  },
  {
   "cell_type": "code",
   "execution_count": null,
   "id": "e0ec8ffb-4e12-4074-8e19-06eebfdbb502",
   "metadata": {},
   "outputs": [],
   "source": [
    "# 5 . Question Ans - \n",
    "# 6) Which type of restaurant received more offline orders, so that Zomato can provide those customers with some good offers"
   ]
  },
  {
   "cell_type": "code",
   "execution_count": 106,
   "id": "2f8cea3f-2059-4e71-b0a8-2b62d689039b",
   "metadata": {},
   "outputs": [
    {
     "name": "stdout",
     "output_type": "stream",
     "text": [
      "Count of Offline Order in Rest. - Type of Rest\n",
      "Dining    77\n",
      "Cafes      8\n",
      "Buffet     3\n",
      "other      2\n",
      "Name: count, dtype: int64\n"
     ]
    }
   ],
   "source": [
    "# Filter for offline orders and group by restaurant type\n",
    "offline_orders = df[df['online_order'] == 'No']\n",
    "offline_counts = offline_orders['Type of Rest'].value_counts()\n",
    "print('Count of Offline Order in Rest. -',offline_counts)"
   ]
  },
  {
   "cell_type": "code",
   "execution_count": 114,
   "id": "13cf6154-1ab6-4b60-b7f6-61411c944ff2",
   "metadata": {},
   "outputs": [
    {
     "data": {
      "image/png": "[encoded data removed]",
      "text/plain": [
       "<Figure size 400x300 with 1 Axes>"
      ]
     },
     "metadata": {},
     "output_type": "display_data"
    }
   ],
   "source": [
    "plt.figure(figsize=(4, 3))\n",
    "offline_counts.sort_values().plot(kind='barh', color='teal', edgecolor='black')\n",
    "\n",
    "# Add titles and labels\n",
    "plt.title('Count of Offline Orders by Restaurant Type', fontsize=8)\n",
    "plt.xlabel('Count of Orders', fontsize=6)\n",
    "plt.ylabel('Type of Restaurant', fontsize=6)\n",
    "plt.grid(axis='x', linestyle='--', alpha=0.5)"
   ]
  },
  {
   "cell_type": "code",
   "execution_count": null,
   "id": "0c51b237-a0ca-494b-8ca2-c2a859e513c4",
   "metadata": {},
   "outputs": [],
   "source": []
  },
  {
   "cell_type": "code",
   "execution_count": null,
   "id": "5c9d143e-f8d4-4f63-b6ba-e285943f0583",
   "metadata": {},
   "outputs": [],
   "source": []
  },
  {
   "cell_type": "code",
   "execution_count": null,
   "id": "ebb61f46-18d1-4532-a1c6-0378aedce53b",
   "metadata": {},
   "outputs": [],
   "source": []
  },
  {
   "cell_type": "code",
   "execution_count": null,
   "id": "03b51fc8-fc2f-452b-a24a-6746adb83a70",
   "metadata": {},
   "outputs": [],
   "source": []
  },
  {
   "cell_type": "code",
   "execution_count": null,
   "id": "cfd6b815-f102-4c4a-bf43-2ec285d48f30",
   "metadata": {},
   "outputs": [],
   "source": []
  },
  {
   "cell_type": "code",
   "execution_count": null,
   "id": "f3ab6ca8-3a59-4750-9cc0-18e6f04450f5",
   "metadata": {},
   "outputs": [],
   "source": []
  },
  {
   "cell_type": "code",
   "execution_count": null,
   "id": "2cbe5c15-a4e2-4657-a2a9-5d391326f1b5",
   "metadata": {},
   "outputs": [],
   "source": []
  },
  {
   "cell_type": "code",
   "execution_count": null,
   "id": "b7a5922e-c936-4489-b7f0-886915bf2969",
   "metadata": {},
   "outputs": [],
   "source": []
  }
 ],
 "metadata": {
  "kernelspec": {
   "display_name": "Python 3 (ipykernel)",
   "language": "python",
   "name": "python3"
  },
  "language_info": {
   "codemirror_mode": {
    "name": "ipython",
    "version": 3
   },
   "file_extension": ".py",
   "mimetype": "text/x-python",
   "name": "python",
   "nbconvert_exporter": "python",
   "pygments_lexer": "ipython3",
   "version": "3.11.7"
  }
 },
 "nbformat": 4,
 "nbformat_minor": 5
}
